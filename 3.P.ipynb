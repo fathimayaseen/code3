{
 "cells": [
  {
   "cell_type": "code",
   "execution_count": null,
   "id": "3426caf9",
   "metadata": {},
   "outputs": [
    {
     "name": "stdout",
     "output_type": "stream",
     "text": [
      "Welcome to the Quiz App!\n",
      "Question 1: What is the capital of France?\n",
      "Your answer: PARIS\n",
      "Correct!\n",
      "\n",
      "Question 2: What is 2 + 2?\n",
      "Your answer: 4\n",
      "Correct!\n",
      "\n",
      "Question 3: Who wrote the play 'Hamlet'?\n"
     ]
    }
   ],
   "source": [
    "class Quiz:\n",
    "    def __init__(self):\n",
    "        self.questions = []\n",
    "        self.current_question_index = 0\n",
    "        self.score = 0\n",
    "\n",
    "    def add_question(self, question, correct_answer):\n",
    "        self.questions.append({\"question\": question, \"correct_answer\": correct_answer})\n",
    "\n",
    "    def ask_question(self):\n",
    "        if self.current_question_index < len(self.questions):\n",
    "            question = self.questions[self.current_question_index][\"question\"]\n",
    "            return f\"Question {self.current_question_index + 1}: {question}\"\n",
    "        else:\n",
    "            return None\n",
    "\n",
    "    def check_answer(self, answer):\n",
    "        if self.current_question_index < len(self.questions):\n",
    "            correct_answer = self.questions[self.current_question_index][\"correct_answer\"]\n",
    "            if answer.strip().lower() == correct_answer.strip().lower():\n",
    "                self.score += 1\n",
    "                return True\n",
    "            return False\n",
    "\n",
    "    def show_result(self):\n",
    "        print(\"Quiz completed!\")\n",
    "        print(f\"Your score: {self.score}/{len(self.questions)}\")\n",
    "\n",
    "\n",
    "def main():\n",
    "    quiz = Quiz()\n",
    "\n",
    "    # Add your questions here\n",
    "    quiz.add_question(\"What is the capital of France?\", \"Paris\")\n",
    "    quiz.add_question(\"What is 2 + 2?\", \"4\")\n",
    "    quiz.add_question(\"Who wrote the play 'Hamlet'?\", \"William Shakespeare\")\n",
    "\n",
    "    print(\"Welcome to the Quiz App!\")\n",
    "    while True:\n",
    "        question = quiz.ask_question()\n",
    "        if question is None:\n",
    "            break\n",
    "\n",
    "        print(question)\n",
    "        answer = input(\"Your answer: \")\n",
    "        if quiz.check_answer(answer):\n",
    "            print(\"Correct!\\n\")\n",
    "        else:\n",
    "            print(\"Incorrect!\\n\")\n",
    "\n",
    "        quiz.current_question_index += 1\n",
    "\n",
    "    quiz.show_result()\n",
    "\n",
    "\n",
    "if __name__ == \"__main__\":\n",
    "    main()\n"
   ]
  },
  {
   "cell_type": "code",
   "execution_count": null,
   "id": "f5346e9a",
   "metadata": {},
   "outputs": [],
   "source": []
  }
 ],
 "metadata": {
  "kernelspec": {
   "display_name": "Python 3 (ipykernel)",
   "language": "python",
   "name": "python3"
  },
  "language_info": {
   "codemirror_mode": {
    "name": "ipython",
    "version": 3
   },
   "file_extension": ".py",
   "mimetype": "text/x-python",
   "name": "python",
   "nbconvert_exporter": "python",
   "pygments_lexer": "ipython3",
   "version": "3.10.9"
  }
 },
 "nbformat": 4,
 "nbformat_minor": 5
}
